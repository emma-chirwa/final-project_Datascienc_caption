{
 "cells": [
  {
   "cell_type": "markdown",
   "metadata": {},
   "source": [
    "# Reducing of International migration by 2040 a report assignment by the United Nations ( school purposes only)\n",
    "1.1 Background\n"
   ]
  },
  {
   "cell_type": "markdown",
   "metadata": {},
   "source": [
    "International migration involves people crossing state boundaries and staying in the host state for a minimum length of time. Migration occurs for many reasons. The overwhelming majority of people migrate internationally for reasons related to work, family and study. In contrast, other people leave their homes and countries for a range of compelling and sometimes tragic reasons, such as conflict, persecution and disaster. While those who have been displaced, such as refugees and internally displaced persons (IDPs), comprise a relatively small percentage of all migrants, they are often the most in need of assistance and support. International migration is the process of moving from one country to another.\n",
    ". Therefore, it is advantageous for countries to accurately predict how many International migration may have and compare the current number and the likely number to have in the future.\n"
   ]
  },
  {
   "cell_type": "markdown",
   "metadata": {},
   "source": [
    "# 1.2 Problem\n",
    "Data that might contribute to determining International migration might include the performance of an individual on academic, his age, his country of origin, his marital status, and his health condition .This project aims to predict how International migration may migrate and compare the current number and the likely number to have in the future based on these data\n"
   ]
  },
  {
   "cell_type": "markdown",
   "metadata": {},
   "source": [
    "# 1.3 Interest\n",
    "The United Nations  and each country in Africa would be happy to have Obviously, accurate prediction of International migration, for competitive advantage and business values. Others who are interested in such are government agencies of that country affected by it .\n",
    "Most International migration, data can be found in Wikipedia https://en.wikipedia.org/wiki/International_migration.  And  Immigration to Canada from 1980 to 2013 - International migration flows to and from selected countries in Africa .- The 2015 revision from United Nation's website.https://s3-api.us-geo.objectstorage.softlayer.net/cf-courses-data/CognitiveClass/DV0101EN/labs/Data_Files/Canada.xlsx\n",
    "\n",
    "\n"
   ]
  },
  {
   "cell_type": "markdown",
   "metadata": {},
   "source": [
    "# 2.2 Data cleaning\n",
    "Data downloaded or scraped from multiple sources were combined into one table. There were a lot of missing values from earlier seasons, because of lack of record keeping. I decided to only use data from 1980 to 2013, There are several problems with the datasets.I checked for outliers in the data. I found there were some extreme outliers, mostly caused by some types of small sample size problem. \n",
    "\n"
   ]
  },
  {
   "cell_type": "markdown",
   "metadata": {},
   "source": [
    "# 2.3 Feature selection\n",
    "After data was cleaned up to remove unnecessary columns (eg. AREA','REG','DEV'). It was clear that there was some redundancy in the features. \n"
   ]
  },
  {
   "cell_type": "markdown",
   "metadata": {},
   "source": [
    "# 3.Exploratory DataAnalysis and Results section where you discuss the results."
   ]
  },
  {
   "cell_type": "markdown",
   "metadata": {},
   "source": [
    "# 3.1 Calculation of target variable\n",
    "Three countries in Africa  were chosen out of a different countries in the world because it is the most interpretable, and African countries are the one whose democracy is at risk as many presidents don’t hand over power after elections. The chosen countries that will be used in the International migration analysis are Zambia, Botswana and Angola both fall under the Eastern and southern Africa according to the data obtained."
   ]
  },
  {
   "cell_type": "markdown",
   "metadata": {},
   "source": [
    "# 4. Conclusion\n",
    "It has been found that Zambia has a lot of International migration due to observance of good democracy and governance. Followed by Botswana and Malawi respectively. In 1980 to 1985,there were a reduction in migration. From 1985 to 2013 the migration increased according to regression to 257537 upto the year of 2013.These are the numbers who only visited. \n",
    " The reasons why migration might have increased in accordance to the data analysis is due to:\n",
    "1.\tcivil war that was experienced in Angola during the Savimbi government and also the Congo rebels.\n",
    "2.\tThe improved technology for greener pastures: Those people seeking jobs.\n",
    "3.\tIn  Zambia in 2010 International Migration was more than 100 but less than150\n",
    "4.\tIn Botswana in 2010 International Migration was more than 60 but less than 80\n",
    "5.\tIn  Malawi in 2010 International Migration was more than 40 but less than 60\n"
   ]
  }
 ],
 "metadata": {
  "kernelspec": {
   "display_name": "Python 3",
   "language": "python",
   "name": "python3"
  },
  "language_info": {
   "codemirror_mode": {
    "name": "ipython",
    "version": 3
   },
   "file_extension": ".py",
   "mimetype": "text/x-python",
   "name": "python",
   "nbconvert_exporter": "python",
   "pygments_lexer": "ipython3",
   "version": "3.7.1"
  }
 },
 "nbformat": 4,
 "nbformat_minor": 2
}
